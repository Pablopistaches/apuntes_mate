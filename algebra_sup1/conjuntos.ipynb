{
 "cells": [
  {
   "cell_type": "markdown",
   "id": "42d48cc7-6d4c-4458-b947-099c8d5d0c20",
   "metadata": {},
   "source": [
    "## Teorema: Distributividad"
   ]
  },
  {
   "cell_type": "markdown",
   "id": "403f63fa-cb1e-4551-8e86-dcfe9784f3a7",
   "metadata": {},
   "source": [
    "Recordemos que el producto distribuye a la suma, por ejemplo:     $\\;\\;\\;a(b+c)\\,=\\;a*b + b*c\\;\\;$ pero debemos tener en cuenta que no todas las operaciones distribuyen, por ejemplo: $\\; a+(b*c)\\;\\neq\\;(a+c)*(a+c)$"
   ]
  },
  {
   "cell_type": "markdown",
   "id": "4bb637d3-2b81-4529-86bb-7c343261c869",
   "metadata": {},
   "source": [
    "$ PD:\\; A\\cup(B\\cap C)\\;=\\;(A\\cup B)\\cap(A\\cup C) $"
   ]
  },
  {
   "cell_type": "markdown",
   "id": "f965e5e6-febc-411b-a2c3-19a1ce257c0a",
   "metadata": {},
   "source": [
    "Para demostrar igualdad necesitamos hacerlo a través de una doble contención"
   ]
  },
  {
   "cell_type": "markdown",
   "id": "2704baf5-a626-448e-b826-9418fa5d2c54",
   "metadata": {},
   "source": [
    "$\\subseteq)\\;$ Sea $\\;\\; x\\in A\\cup(B\\cap C). \\;\\; PD:\\;\\; x\\in (A\\cup B)\\cap(A\\cup C) $"
   ]
  },
  {
   "cell_type": "markdown",
   "id": "bacdd41b-e850-4a12-88e6-22e262a7eb9f",
   "metadata": {},
   "source": [
    "Como $\\;\\; x\\in A\\cup(B\\cap C)\\;$ entonces $\\;x\\in A\\; ó\\; x\\in (B\\cap C)\\; $; es decir, tenemos 2 opciones: \n",
    "\n",
    "$i)\\; x\\in A$\n",
    "\n",
    "$ii)\\; x \\in B \\;\\; y \\;\\; x\\in C $"
   ]
  },
  {
   "cell_type": "markdown",
   "id": "32249e93-d338-493e-8139-4dde6b2f03e6",
   "metadata": {},
   "source": [
    "Caso $i)$\n",
    "\n",
    "Si $\\; x\\in A$; entonces podemos unir cualquier elemento al conjunto A, en particular podemos unirlo al conjunto B.  Entonces tenemos lo siguiente: $\\;x\\in A\\;\\; ó \\;\\;x\\in B\\;\\;$ es decir $\\;\\;x\\in A\\cup B$. De la misma manera, si $\\; x\\in A\\;\\;$ entonces $\\;x\\in A\\;\\; ó \\;\\;x\\in C\\;\\;$ es decir $\\;\\;x\\in A\\cup C,\\;\\;$ por lo tanto tenemos lo siguiente: $\\; x\\in A\\cup B\\;\\;$ y$\\;\\; x\\in A\\cup C\\;\\; \\therefore\\;\\; x\\in(A\\cup B)\\cap (A\\cup B)\\;\\; \\therefore \\;\\; x\\in A\\cup (B\\cap C)\\subseteq (A\\cup B)\\cap(A\\cup C)$"
   ]
  },
  {
   "cell_type": "markdown",
   "id": "67f05c25-43da-4fd4-baae-c5492325f707",
   "metadata": {},
   "source": [
    "Caso $ii)$"
   ]
  },
  {
   "cell_type": "markdown",
   "id": "7da40a68-ba34-4c51-9571-d13e61535da2",
   "metadata": {},
   "source": [
    "Si $\\; x\\in B\\;$ y $\\; x\\in C$ entonces podemos unir cualquier elemento al conjunto B, en particular podemos unirlo al conjunto A, es decir $\\; x\\in B\\;$ o  $\\; x\\in A\\;$, es decir $\\; x\\in A\\cup B\\;$. Y por otro lado, como $\\; x\\in C\\;$ entonces $\\; x\\in C\\;$ o $\\; x\\in A\\;$ es decir $\\; x\\in A\\cup C\\; \\therefore\\; x\\in A\\cup B\\;$ y $x\\in A\\cup C\\; \\therefore\\; x\\in (A\\cup B) \\cap (A\\cup C)\\; \\therefore \\; A\\cup (B\\cap C)\\subseteq (A\\cup B)\\cap(A\\cup C)$"
   ]
  },
  {
   "cell_type": "markdown",
   "id": "97c77e38-0f06-4f38-a78e-24453c3a9da2",
   "metadata": {},
   "source": [
    "$\\supseteq)$ Ahora hacemos la contención de regreso"
   ]
  },
  {
   "cell_type": "markdown",
   "id": "7adf899d-5ab8-478a-9f8b-67c499bd20f0",
   "metadata": {},
   "source": [
    "PD $(A\\cup B)\\cap(A\\cup C)\\subseteq A\\cup (B\\cap C)$"
   ]
  },
  {
   "cell_type": "code",
   "execution_count": null,
   "id": "c0e6493c-cda9-4663-8f51-a2122fc192c3",
   "metadata": {},
   "outputs": [],
   "source": []
  }
 ],
 "metadata": {
  "kernelspec": {
   "display_name": "Python 3 (ipykernel)",
   "language": "python",
   "name": "python3"
  },
  "language_info": {
   "codemirror_mode": {
    "name": "ipython",
    "version": 3
   },
   "file_extension": ".py",
   "mimetype": "text/x-python",
   "name": "python",
   "nbconvert_exporter": "python",
   "pygments_lexer": "ipython3",
   "version": "3.9.7"
  }
 },
 "nbformat": 4,
 "nbformat_minor": 5
}
